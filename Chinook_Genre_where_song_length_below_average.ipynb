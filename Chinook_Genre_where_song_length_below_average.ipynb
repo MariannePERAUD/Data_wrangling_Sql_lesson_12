{
 "cells": [
  {
   "cell_type": "markdown",
   "metadata": {},
   "source": [
    "First try : not the solution"
   ]
  },
  {
   "cell_type": "code",
   "execution_count": 15,
   "metadata": {},
   "outputs": [],
   "source": [
    "import sqlite3\n",
    "import pprint\n",
    "db = sqlite3.connect(r'C:\\Users\\PERAUD_M\\Downloads\\Lesson_12\\sqlite-windows\\Chinook_Sqlite.sqlite')\n",
    "c = db.cursor()"
   ]
  },
  {
   "cell_type": "code",
   "execution_count": 16,
   "metadata": {},
   "outputs": [
    {
     "name": "stdout",
     "output_type": "stream",
     "text": [
      "               0  1\n",
      "0  393599.212104  1\n"
     ]
    }
   ],
   "source": [
    "\n",
    "QUERY ='''\n",
    "SELECT AVG(Track.Milliseconds) as moyenne,Track.GenreId FROM Track\n",
    ";\n",
    "'''\n",
    "c.execute(QUERY)\n",
    "rows = c.fetchall()\n",
    "import pandas as pd \n",
    "import pprint\n",
    "df1 = pd.DataFrame(rows)\n",
    "pprint.pprint(df1)\n",
    "\n"
   ]
  },
  {
   "cell_type": "markdown",
   "metadata": {},
   "source": [
    "Second try, not the solution"
   ]
  },
  {
   "cell_type": "code",
   "execution_count": 17,
   "metadata": {},
   "outputs": [
    {
     "name": "stdout",
     "output_type": "stream",
     "text": [
      "       0       1\n",
      "0      1  343719\n",
      "1      1  342562\n",
      "2      1  230619\n",
      "3      1  252051\n",
      "4      1  375418\n",
      "...   ..     ...\n",
      "3498  24  286741\n",
      "3499  24  139200\n",
      "3500  24   66639\n",
      "3501  24  221331\n",
      "3502  10  206005\n",
      "\n",
      "[3503 rows x 2 columns]\n"
     ]
    }
   ],
   "source": [
    "QUERY ='''\n",
    "SELECT GenreId, Milliseconds FROM Track;\n",
    "'''\n",
    "\n",
    "c.execute(QUERY)\n",
    "rows = c.fetchall()\n",
    "import pandas as pd \n",
    "import pprint\n",
    "df2 = pd.DataFrame(rows)\n",
    "pprint.pprint(df2)\n",
    "\n"
   ]
  },
  {
   "cell_type": "markdown",
   "metadata": {},
   "source": [
    "**The solution : copied from https://www.jianshu.com/p/d652466d571e**  \n",
    "Still to be fully understood :-)"
   ]
  },
  {
   "cell_type": "code",
   "execution_count": 18,
   "metadata": {},
   "outputs": [
    {
     "name": "stdout",
     "output_type": "stream",
     "text": [
      "      0     1\n",
      "0  Rock  1162\n"
     ]
    }
   ],
   "source": [
    "\n",
    "QUERY = '''SELECT Genre.Name,COUNT(Genre.Name) as num \n",
    "FROM Genre,Track,\n",
    "((SELECT avg(Milliseconds) as average \n",
    "FROM Genre,Track WHERE Genre.GenreId=Track.GenreId) as subquery)\n",
    "WHERE Genre.GenreId=Track.GenreId\n",
    "and Track.Milliseconds<average\n",
    "GROUP BY Genre.name\n",
    "ORDER BY num DESC\n",
    "LIMIT 1;\n",
    "'''\n",
    "\n",
    "c.execute(QUERY)\n",
    "rows = c.fetchall()\n",
    "import pandas as pd \n",
    "import pprint\n",
    "df3 = pd.DataFrame(rows)\n",
    "pprint.pprint(df3)\n"
   ]
  },
  {
   "cell_type": "code",
   "execution_count": null,
   "metadata": {},
   "outputs": [],
   "source": []
  },
  {
   "cell_type": "code",
   "execution_count": null,
   "metadata": {},
   "outputs": [],
   "source": []
  },
  {
   "cell_type": "code",
   "execution_count": null,
   "metadata": {},
   "outputs": [],
   "source": []
  }
 ],
 "metadata": {
  "kernelspec": {
   "display_name": "Python 3",
   "language": "python",
   "name": "python3"
  },
  "language_info": {
   "codemirror_mode": {
    "name": "ipython",
    "version": 3
   },
   "file_extension": ".py",
   "mimetype": "text/x-python",
   "name": "python",
   "nbconvert_exporter": "python",
   "pygments_lexer": "ipython3",
   "version": "3.7.4"
  }
 },
 "nbformat": 4,
 "nbformat_minor": 2
}
