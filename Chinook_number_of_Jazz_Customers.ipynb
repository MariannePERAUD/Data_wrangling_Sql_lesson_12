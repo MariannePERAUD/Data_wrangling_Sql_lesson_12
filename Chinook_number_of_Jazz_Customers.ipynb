{
 "cells": [
  {
   "cell_type": "code",
   "execution_count": 14,
   "metadata": {},
   "outputs": [],
   "source": [
    "import sqlite3\n",
    "\n",
    "\n",
    "# Fetch records from either chinook.db\n",
    "db = sqlite3.connect(r'C:\\Users\\PERAUD_M\\Downloads\\Lesson_12\\sqlite-windows\\Chinook_Sqlite.sqlite')\n",
    "c = db.cursor()\n",
    "QUERY ='''\n",
    "SELECT count(distinct Customer.CustomerId) FROM Track,Genre,Customer, Invoice,InvoiceLine\n",
    "WHERE Track.GenreId=Genre.GenreId\n",
    "AND Track.TrackId=InvoiceLine.TrackId\n",
    "AND Invoice.InvoiceId=InvoiceLine.InvoiceId\n",
    "AND Customer.CustomerId=Invoice.CustomerId\n",
    "AND Genre.Name='Jazz'\n",
    "\n",
    ";\n",
    "'''\n",
    "\n",
    "\n",
    "c.execute(QUERY)\n",
    "rows = c.fetchall()\n"
   ]
  },
  {
   "cell_type": "code",
   "execution_count": 15,
   "metadata": {},
   "outputs": [
    {
     "name": "stdout",
     "output_type": "stream",
     "text": [
      "    0\n",
      "0  32\n"
     ]
    }
   ],
   "source": [
    "import pandas as pd \n",
    "import pprint\n",
    "df = pd.DataFrame(rows)\n",
    "pprint.pprint(df)\n",
    "\n",
    "db.close()"
   ]
  },
  {
   "cell_type": "code",
   "execution_count": 32,
   "metadata": {},
   "outputs": [],
   "source": [
    "import sqlite3\n",
    "\n",
    "\n",
    "# Fetch records from either chinook.db\n",
    "db = sqlite3.connect(r'C:\\Users\\PERAUD_M\\Downloads\\Lesson_12\\sqlite-windows\\Chinook_Sqlite.sqlite')\n",
    "c = db.cursor()\n",
    "QUERY ='''\n",
    "SELECT Customer.FirstName FROM Track,Genre,Customer, Invoice,InvoiceLine\n",
    "WHERE Track.GenreId=Genre.GenreId\n",
    "AND Track.TrackId=InvoiceLine.TrackId\n",
    "AND Invoice.InvoiceId=InvoiceLine.InvoiceId\n",
    "AND Customer.CustomerId=Invoice.CustomerId\n",
    "AND Genre.Name='Jazz'\n",
    "GROUP BY Customer.FirstName\n",
    "ORDER BY Customer.FirstName\n",
    "\n",
    ";\n",
    "'''\n",
    "\n",
    "\n",
    "c.execute(QUERY)\n",
    "rows = c.fetchall()\n"
   ]
  },
  {
   "cell_type": "code",
   "execution_count": 33,
   "metadata": {},
   "outputs": [
    {
     "name": "stdout",
     "output_type": "stream",
     "text": [
      "            0\n",
      "0       Aaron\n",
      "1      Astrid\n",
      "2     Camille\n",
      "3         Dan\n",
      "4       Diego\n",
      "5   Dominique\n",
      "6      Edward\n",
      "7     Enrique\n",
      "8       Frank\n",
      "9   František\n",
      "10   François\n",
      "11       Fynn\n",
      "12    Heather\n",
      "13       Hugh\n",
      "14   Isabelle\n",
      "15       Jack\n",
      "16     Joakim\n",
      "17       John\n",
      "18      Kathy\n",
      "19   Madalena\n",
      "20      Manoj\n",
      "21       Mark\n",
      "22     Martha\n",
      "23   Michelle\n",
      "24     Niklas\n",
      "25       Phil\n",
      "26       Puja\n",
      "27  Stanisław\n",
      "28      Steve\n",
      "29      Terhi\n",
      "30        Tim\n",
      "31      Wyatt\n"
     ]
    }
   ],
   "source": [
    "import pandas as pd \n",
    "import pprint\n",
    "listejazz = pd.DataFrame(rows)\n",
    "pprint.pprint(listejazz)\n",
    "\n",
    "db.close()"
   ]
  },
  {
   "cell_type": "code",
   "execution_count": null,
   "metadata": {},
   "outputs": [],
   "source": []
  },
  {
   "cell_type": "code",
   "execution_count": null,
   "metadata": {},
   "outputs": [],
   "source": []
  }
 ],
 "metadata": {
  "kernelspec": {
   "display_name": "Python 3",
   "language": "python",
   "name": "python3"
  },
  "language_info": {
   "codemirror_mode": {
    "name": "ipython",
    "version": 3
   },
   "file_extension": ".py",
   "mimetype": "text/x-python",
   "name": "python",
   "nbconvert_exporter": "python",
   "pygments_lexer": "ipython3",
   "version": "3.7.4"
  }
 },
 "nbformat": 4,
 "nbformat_minor": 2
}
