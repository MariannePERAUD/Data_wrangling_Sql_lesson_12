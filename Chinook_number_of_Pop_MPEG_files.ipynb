{
 "cells": [
  {
   "cell_type": "code",
   "execution_count": 3,
   "metadata": {},
   "outputs": [],
   "source": [
    "import sqlite3\n",
    "import pprint\n",
    "\n",
    "# Fetch records from either chinook.db\n",
    "db = sqlite3.connect(r'C:\\Users\\PERAUD_M\\Downloads\\Lesson_12\\sqlite-windows\\Chinook_Sqlite.sqlite')\n",
    "c = db.cursor()\n",
    "QUERY ='''\n",
    "SELECT * FROM Track,Genre\n",
    "WHERE Track.GenreId=Genre.GenreId\n",
    "AND Genre.Name='Pop'\n",
    "AND MediaTypeId='1';\n",
    "'''\n",
    "\n",
    "\n",
    "c.execute(QUERY)\n",
    "rows = c.fetchall()\n"
   ]
  },
  {
   "cell_type": "code",
   "execution_count": 23,
   "metadata": {},
   "outputs": [
    {
     "name": "stdout",
     "output_type": "stream",
     "text": [
      "      0                                      1   2  3  4  \\\n",
      "0   323         Dig-Dig, Lambe-Lambe (Ao Vivo)  29  1  9   \n",
      "1   324                                 Pererê  29  1  9   \n",
      "2   325                             TriboTchan  29  1  9   \n",
      "3   326                Tapa Aqui, Descobre Ali  29  1  9   \n",
      "4   327                                Daniela  29  1  9   \n",
      "5   328                              Bate Lata  29  1  9   \n",
      "6   329                      Garotas do Brasil  29  1  9   \n",
      "7   330               Levada do Amor (Ailoviu)  29  1  9   \n",
      "8   331                              Lavadeira  29  1  9   \n",
      "9   332                            Reboladeira  29  1  9   \n",
      "10  333  É que Nessa Encarnação Eu Nasci Manga  29  1  9   \n",
      "11  334                           Reggae Tchan  29  1  9   \n",
      "12  335                                My Love  29  1  9   \n",
      "13  336                     Latinha de Cerveja  29  1  9   \n",
      "\n",
      "                                                    5       6        7     8  \\\n",
      "0      Cassiano Costa/Cintia Maviane/J.F./Lucas Costa  205479  6892516  0.99   \n",
      "1               Augusto Conceição/Chiclete Com Banana  198661  6643207  0.99   \n",
      "2                                 Cal Adan/Paulo Levi  194194  6507950  0.99   \n",
      "3                                Paulo Levi/W. Rangel  188630  6327391  0.99   \n",
      "4                         Jorge Cardoso/Pierre Onasis  230791  7748006  0.99   \n",
      "5                 Fábio Nolasco/Gal Sales/Ivan Brasil  206733  7034985  0.99   \n",
      "6   Garay, Ricardo Engels/Luca Predabom/Ludwig, Ca...  210155  6973625  0.99   \n",
      "7                           Luiz Wanderley/Paulo Levi  190093  6457752  0.99   \n",
      "8        Do Vale, Valverde/Gal Oliveira/Luciano Pinto  214256  7254147  0.99   \n",
      "9   Cal Adan/Ferrugem/Julinho Carioca/Tríona Ní Dh...  210599  7027525  0.99   \n",
      "10                                        Lucina/Luli  196519  6568081  0.99   \n",
      "11             Cal Adan/Del Rey, Tension/Edu Casanova  206654  6931328  0.99   \n",
      "12                                   Jauperi/Zeu Góes  203493  6772813  0.99   \n",
      "13                      Adriano Bernandes/Edmar Neves  166687  5532564  0.99   \n",
      "\n",
      "    9   10  \n",
      "0   9  Pop  \n",
      "1   9  Pop  \n",
      "2   9  Pop  \n",
      "3   9  Pop  \n",
      "4   9  Pop  \n",
      "5   9  Pop  \n",
      "6   9  Pop  \n",
      "7   9  Pop  \n",
      "8   9  Pop  \n",
      "9   9  Pop  \n",
      "10  9  Pop  \n",
      "11  9  Pop  \n",
      "12  9  Pop  \n",
      "13  9  Pop  \n"
     ]
    }
   ],
   "source": [
    "import pandas as pd    \n",
    "df = pd.DataFrame(rows)\n",
    "pprint.pprint(df)\n",
    "\n",
    "db.close()"
   ]
  },
  {
   "cell_type": "code",
   "execution_count": null,
   "metadata": {},
   "outputs": [],
   "source": []
  },
  {
   "cell_type": "code",
   "execution_count": null,
   "metadata": {},
   "outputs": [],
   "source": []
  },
  {
   "cell_type": "code",
   "execution_count": null,
   "metadata": {},
   "outputs": [],
   "source": []
  }
 ],
 "metadata": {
  "kernelspec": {
   "display_name": "Python 3",
   "language": "python",
   "name": "python3"
  },
  "language_info": {
   "codemirror_mode": {
    "name": "ipython",
    "version": 3
   },
   "file_extension": ".py",
   "mimetype": "text/x-python",
   "name": "python",
   "nbconvert_exporter": "python",
   "pygments_lexer": "ipython3",
   "version": "3.7.4"
  }
 },
 "nbformat": 4,
 "nbformat_minor": 2
}
